{
 "cells": [
  {
   "cell_type": "markdown",
   "id": "dd40f4f4-5a80-40b7-94b3-aed136daa9d8",
   "metadata": {},
   "source": [
    "# Figures for the GODEEEP Transportation Paper\n"
   ]
  },
  {
   "cell_type": "code",
   "execution_count": null,
   "id": "27e597e9-538f-41d4-afa9-a268b10ab1df",
   "metadata": {},
   "outputs": [],
   "source": [
    "# Import the packages we need:\n",
    "import os\n",
    "\n",
    "import pandas as pd\n",
    "import numpy as np\n",
    "import geopandas as gpd\n",
    "import matplotlib.pyplot as plt\n",
    "\n",
    "from mpl_toolkits.axes_grid1 import make_axes_locatable\n"
   ]
  },
  {
   "cell_type": "markdown",
   "id": "795f6fe5-0769-4298-887e-7c4cffc64a0d",
   "metadata": {},
   "source": [
    "## Set the Directory Structure\n"
   ]
  },
  {
   "cell_type": "code",
   "execution_count": null,
   "id": "bd887600-32da-46dc-b411-fa63c75f564f",
   "metadata": {
    "pycharm": {
     "name": "#%%\n"
    }
   },
   "outputs": [],
   "source": [
    "# Set the data input and image output directories:\n",
    "data_input_dir =  '/Users/burl878/Documents/IMMM/GODEEP/Data/Transportation_Paper/Data/'\n",
    "image_output_dir =  '/Users/burl878/Documents/IMMM/GODEEP/Data/Transportation_Paper/Figures/'\n"
   ]
  },
  {
   "cell_type": "markdown",
   "id": "169dc070-0ab8-4833-b6a0-589869ebf64e",
   "metadata": {},
   "source": [
    "## Process the BA-Level Transportation Ratio Statistics\n"
   ]
  },
  {
   "cell_type": "code",
   "execution_count": null,
   "id": "8702ad29-cc94-435c-9aac-25b1524e47d7",
   "metadata": {},
   "outputs": [],
   "source": [
    "# Define a function to compute the BA load ratios for given year and scenario:\n",
    "def process_load_ratios(scenario_to_process: str, year_to_process: str, data_input_dir: str):\n",
    "    \n",
    "    # Read in the .csv file:\n",
    "    load_df = pd.read_csv((data_input_dir + scenario_to_process + '/Total_Load_Time_Series_' + scenario_to_process + '_' + year_to_process + '.csv'))\n",
    "    \n",
    "    # Calculate the load ratio (transportation load divided by total load):\n",
    "    load_df['Load_Ratio'] = (load_df['Transportation_Load_MWh']/load_df['Total_Load_MWh']).round(3)\n",
    "    \n",
    "    # Make a list of all of the BAs:\n",
    "    bas = load_df['BA_Code'].unique()\n",
    "    \n",
    "    #Initiate a counter and empty dataframe to store the results:\n",
    "    counter = 0;\n",
    "    output_df = pd.DataFrame()\n",
    "    \n",
    "    # Loop over the BAs and process their data into an output file:\n",
    "    for i in range(len(bas)):\n",
    "        # Iterate the counter by one:\n",
    "        counter = counter + 1\n",
    "            \n",
    "        # Subset to just the data for the BA being processed:\n",
    "        subset_df = load_df[load_df['BA_Code'].isin([bas[i]])].copy()\n",
    "        \n",
    "        # Put the output in a new dataframe:\n",
    "        output_df.loc[counter, 'BA'] = bas[i]\n",
    "        output_df.loc[counter, 'System_Energy_Ratio'] = ((subset_df['Transportation_Load_MWh'].sum()) / (subset_df['Total_Load_MWh'].sum())).round(3)\n",
    "        output_df.loc[counter, 'Peak_System_Ratio'] = subset_df['Load_Ratio'].loc[subset_df['Total_Load_MWh'].idxmax()].round(3)\n",
    "        output_df.loc[counter, 'Peak_Transportation_Ratio'] = subset_df['Load_Ratio'].loc[subset_df['Transportation_Load_MWh'].idxmax()].round(3)\n",
    "        \n",
    "        # Clean up\n",
    "        del subset_df\n",
    "            \n",
    "    return output_df\n",
    "   "
   ]
  },
  {
   "cell_type": "code",
   "execution_count": null,
   "id": "be5457f7-6e87-45f1-a6db-ecda36cfb680",
   "metadata": {},
   "outputs": [],
   "source": [
    "# Test the function for a given year and scenario:\n",
    "output_df = process_load_ratios(scenario_to_process = 'BAU_Climate',\n",
    "                                year_to_process = '2035',\n",
    "                                data_input_dir = data_input_dir)\n",
    "\n",
    "output_df\n"
   ]
  },
  {
   "cell_type": "markdown",
   "id": "89d67e06-b938-49f9-b312-1a4fb540e135",
   "metadata": {},
   "source": [
    "## Plot the BA-Level Transportation Ratio Statistics\n"
   ]
  },
  {
   "cell_type": "code",
   "execution_count": null,
   "id": "18c7bd7f-506c-43d2-ba27-7eec2fc6a574",
   "metadata": {},
   "outputs": [],
   "source": [
    "# Define a function to plot the BA load ratios for given year and scenario:\n",
    "def plot_load_ratios(scenario_to_plot: str, year_to_plot: str, data_input_dir: str, image_output_dir: str, image_resolution: int, save_images=False):\n",
    "    \n",
    "    if scenario_to_plot == 'BAU_Climate':\n",
    "       scenario_label = 'Business as Usual'\n",
    "    if scenario_to_plot == 'NetZeroNoCCS_Climate':\n",
    "       scenario_label = 'Net Zero'\n",
    "    \n",
    "    # Process the data:\n",
    "    plot_df = process_load_ratios(scenario_to_process = scenario_to_plot,\n",
    "                                  year_to_process = year_to_plot,\n",
    "                                  data_input_dir = data_input_dir)\n",
    "    \n",
    "    # Create an x-axis the length of the dataframe to be used in plotting:\n",
    "    x_axis = np.arange(len(plot_df))\n",
    "    \n",
    "    # Make the plot:\n",
    "    plt.figure(figsize=(24, 12))\n",
    "    plt.rcParams['font.size'] = 16\n",
    "    \n",
    "    plt.bar(x_axis - 0.25, plot_df['Peak_System_Ratio'], 0.25, label=('Ratio of transportation load to system load at system peak'))\n",
    "    plt.bar(x_axis, plot_df['Peak_Transportation_Ratio'], 0.25, label=('Ratio of transportation load to system load at transportation peak'))\n",
    "    plt.bar(x_axis + 0.25, plot_df['System_Energy_Ratio'], 0.25, label=('Ratio of yearly transportation energy to system energy'))\n",
    "    plt.xticks(x_axis, plot_df['BA'])\n",
    "    plt.xticks(rotation=25)\n",
    "    plt.xlim([0.4, 27.6])\n",
    "    plt.xlabel('Balancing Authority')\n",
    "    #plt.ylim([0, 1])\n",
    "    plt.legend()\n",
    "    plt.ylabel('Ratio')\n",
    "    plt.grid(False)\n",
    "    plt.title(('Comparison of Transportation to System Loads: ' + scenario_label + ', ' + year_to_plot))\n",
    "    \n",
    "    # If the \"save_images\" flag is set to true then save the plot to a .png file:\n",
    "    if save_images == True:\n",
    "       filename = ('BA_Load_Ratios_' + scenario_to_plot + '_' + year_to_plot + '.png')\n",
    "       plt.savefig(os.path.join(image_output_dir, filename), dpi=image_resolution, bbox_inches='tight', facecolor='white')\n"
   ]
  },
  {
   "cell_type": "code",
   "execution_count": null,
   "id": "663d029f-a8b8-469c-80f4-82b1aefa94f9",
   "metadata": {},
   "outputs": [],
   "source": [
    "# Make the plot for a given year and scenario:\n",
    "plot_load_ratios(scenario_to_plot = 'BAU_Climate',\n",
    "                 year_to_plot = '2035',\n",
    "                 data_input_dir = data_input_dir,\n",
    "                 image_output_dir = image_output_dir, \n",
    "                 image_resolution = 300, \n",
    "                 save_images = True)\n"
   ]
  },
  {
   "cell_type": "markdown",
   "id": "fdfcf961-1bfc-4f38-8d80-8b1e9c5b678f",
   "metadata": {},
   "source": [
    "## Process and Plot the State-Level Load Ratios\n"
   ]
  },
  {
   "cell_type": "code",
   "execution_count": null,
   "id": "fd0ca5b5-3563-4f0c-a9ec-d29efb75a696",
   "metadata": {},
   "outputs": [],
   "source": [
    "# Define a function to plot the state-level load ratios:\n",
    "def plot_state_loads(scenario_to_plot: str, year_to_plot: str, data_input_dir: str, image_output_dir: str, image_resolution: int, save_images=False):\n",
    "            \n",
    "    # Read in the state output files for tell:\n",
    "    load_df = pd.read_csv((data_input_dir + scenario_to_plot + '/TELL_State_Summary_Data_' + year_to_plot + '_Scaled_' + year_to_plot + '.csv'))\n",
    "    \n",
    "    # Rename a few columns for simplicity:\n",
    "    load_df.rename(columns={'State_Name': 'State',\n",
    "                            'GCAM_USA_Non_Transportation_Load_TWh': 'NonTransportation_TWh',\n",
    "                            'GCAM_USA_Transportation_Load_TWh': 'Transportation_TWh'}, inplace=True)\n",
    "    \n",
    "    # Compute the total load and the load ratios:\n",
    "    load_df['Total_TWh'] = load_df['NonTransportation_TWh'] + load_df['Transportation_TWh']\n",
    "    load_df['Transportation_Fraction'] = (load_df['Transportation_TWh']/load_df['Total_TWh']).round(3)\n",
    "    \n",
    "    # Only keep the columns we need:\n",
    "    load_df = load_df[['State', 'NonTransportation_TWh', 'Transportation_TWh', 'Total_TWh', 'Transportation_Fraction']].copy()\n",
    "    \n",
    "    # Read in the county shapefile and rename the state variable:\n",
    "    states_df = gpd.read_file(os.path.join(data_input_dir, 'State_Shapefiles/tl_2022_us_state.shp')).rename(columns={'NAME': 'State'})\n",
    "    \n",
    "    # Merge the subset_df and states_df together using state names to join them:\n",
    "    plot_df = states_df.merge(load_df, on='State', how='left')    \n",
    "    \n",
    "    # Subset to just the states in the WECC:\n",
    "    plot_df = plot_df[plot_df['State'].isin(['Arizona', 'California', 'Colorado', 'Idaho', 'Montana', 'Nevada', 'New Mexico', 'Oregon', 'Utah', 'Washington', 'Wyoming'])]\n",
    "    \n",
    "    # Set the scenario label:\n",
    "    if scenario_to_plot == 'BAU_Climate':\n",
    "       scenario_label = 'Business as Usual'\n",
    "    if scenario_to_plot == 'NetZeroNoCCS_Climate':\n",
    "       scenario_label = 'Net Zero'\n",
    "    \n",
    "    # Set the colormap and color limits:\n",
    "    colors = plt.get_cmap('RdYlBu_r', 20)\n",
    "    min_value = 0\n",
    "    max_value = 0.5\n",
    "    \n",
    "    # Make the map plot:\n",
    "    fig, ax = plt.subplots(1, 1, figsize=(24, 12))\n",
    "    divider = make_axes_locatable(ax)\n",
    "    cax = divider.append_axes(\"right\", size=\"2%\", pad=-1)\n",
    "    plot_df.plot(ax=ax, cax=cax, column='Transportation_Fraction', cmap=colors, vmin=min_value, vmax=max_value, edgecolor='k', linewidth=1.5, \n",
    "                 legend=True, legend_kwds={'label': ('Ratio of Yearly Transportation Energy to System Energy'), 'orientation': 'vertical'})\n",
    "    ax.set_title(('Transportation Load Ratios: ' + scenario_label + ', ' + year_to_plot), fontsize = 21)\n",
    "    ax.set_xlim(-126, -101.2)\n",
    "    ax.set_xlabel('Longitude', fontsize=14)\n",
    "    ax.set_ylim(30.9, 49.5)\n",
    "    ax.set_ylabel('Latitude', fontsize=14)\n",
    "    \n",
    "    # If the \"save_images\" flag is set to true then save the plot to a .png file:\n",
    "    if save_images == True:\n",
    "       filename = ('State_Load_Ratios_' + scenario_to_plot + '_' + year_to_plot + '.png')\n",
    "       plt.savefig(os.path.join(image_output_dir, filename), dpi=image_resolution, bbox_inches='tight', facecolor='white')\n",
    "        "
   ]
  },
  {
   "cell_type": "code",
   "execution_count": null,
   "id": "ec0d3c46-db60-42dc-829a-1c4eaedb28e3",
   "metadata": {},
   "outputs": [],
   "source": [
    "# Make the plot for a given year and scenario:\n",
    "plot_state_loads(scenario_to_plot = 'NetZeroNoCCS_Climate',\n",
    "                 year_to_plot = '2050',\n",
    "                 data_input_dir = data_input_dir,\n",
    "                 image_output_dir = image_output_dir, \n",
    "                 image_resolution = 300, \n",
    "                 save_images = True)\n"
   ]
  },
  {
   "cell_type": "code",
   "execution_count": null,
   "id": "56710d3e-0f94-4e58-ab4b-38f26890e894",
   "metadata": {},
   "outputs": [],
   "source": []
  }
 ],
 "metadata": {
  "kernelspec": {
   "display_name": "py3.9.15_std",
   "language": "python",
   "name": "py3.9.15_std"
  },
  "language_info": {
   "codemirror_mode": {
    "name": "ipython",
    "version": 3
   },
   "file_extension": ".py",
   "mimetype": "text/x-python",
   "name": "python",
   "nbconvert_exporter": "python",
   "pygments_lexer": "ipython3",
   "version": "3.9.15"
  }
 },
 "nbformat": 4,
 "nbformat_minor": 5
}
