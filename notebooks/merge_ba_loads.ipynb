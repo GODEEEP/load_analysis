{
 "cells": [
  {
   "cell_type": "markdown",
   "id": "dd40f4f4-5a80-40b7-94b3-aed136daa9d8",
   "metadata": {},
   "source": [
    "# Merge BA Loads\n",
    "\n",
    "This notebook merges together the time series of hourly electricity demand from transportation and non-transportation sources by Balancing Authority (BA)."
   ]
  },
  {
   "cell_type": "code",
   "execution_count": null,
   "id": "27e597e9-538f-41d4-afa9-a268b10ab1df",
   "metadata": {},
   "outputs": [],
   "source": [
    "# Start by importing the packages we need:\n",
    "import os\n",
    "import glob\n",
    "\n",
    "import pandas as pd\n"
   ]
  },
  {
   "cell_type": "markdown",
   "id": "795f6fe5-0769-4298-887e-7c4cffc64a0d",
   "metadata": {},
   "source": [
    "## Set the Directory Structure"
   ]
  },
  {
   "cell_type": "code",
   "execution_count": null,
   "id": "bd887600-32da-46dc-b411-fa63c75f564f",
   "metadata": {
    "pycharm": {
     "name": "#%%\n"
    }
   },
   "outputs": [],
   "source": [
    "# Identify the data input and output directories:\n",
    "trans_data_input_dir =  '/Users/burl878/Documents/IMMM/GODEEP/Data/Transportation/Combined/'\n",
    "tell_data_input_dir =  '/Users/burl878/Documents/IMMM/GODEEP/Data/TELL/Production_Runs/tell_data/outputs/tell_output/'\n",
    "data_output_dir =  '/Users/burl878/Documents/IMMM/GODEEP/Data/Merged_BA_Loads/'\n"
   ]
  },
  {
   "cell_type": "markdown",
   "id": "8a61439a-3f17-4e5c-b530-210b9d9d5afd",
   "metadata": {},
   "source": [
    "## Set the Scenario and Year You Want to Process"
   ]
  },
  {
   "cell_type": "code",
   "execution_count": null,
   "id": "2975ddb3-1dee-4bc0-becc-888849279d04",
   "metadata": {},
   "outputs": [],
   "source": [
    "scenario_to_process = 'BAU_Climate'\n",
    "year_to_process = '2025'\n"
   ]
  },
  {
   "cell_type": "markdown",
   "id": "169dc070-0ab8-4833-b6a0-589869ebf64e",
   "metadata": {},
   "source": [
    "## Merge the Transportation Output Files Together"
   ]
  },
  {
   "cell_type": "code",
   "execution_count": null,
   "id": "ea6ccf33-f406-4fb7-9e16-32e32e2225dd",
   "metadata": {},
   "outputs": [],
   "source": [
    "def merge_transportation_data(scenario: str, year: str, trans_data_input_dir: str, data_output_dir: str):\n",
    "    # Check to see if the processed output file exist and if not then create it:\n",
    "    if os.path.isfile((os.path.join(data_output_dir, ('Transportation_Load_Time_Series_' + scenario + '_' + year + '.csv')))) == False:\n",
    "       \n",
    "       # Create a list of all of the transportation output files in the \"trans_data_input_dir\" and aggregate the files in that list:\n",
    "       trans_filelist = sorted(glob.glob(os.path.join(trans_data_input_dir, scenario, ('*' + year + '.csv'))))\n",
    "       \n",
    "       # Loop over the list of files:\n",
    "       for file in range(len(trans_filelist)):\n",
    "           # Read in the .csv file:\n",
    "           trn_data = pd.read_csv(trans_filelist[file])\n",
    "\n",
    "           # Rename a few variables for consistency with TELL:\n",
    "           trn_data.rename(columns={'balancing_authority': 'BA_Code',\n",
    "                                    'time': 'Time_UTC',\n",
    "                                    'transportation_load_MWh': 'Transportation_Load_MWh'}, inplace=True)\n",
    "        \n",
    "           # Only keep the columns that are needed:\n",
    "           trn_data = trn_data[['BA_Code', 'Time_UTC', 'Transportation_Load_MWh']].copy()\n",
    "           \n",
    "           # Strip the \"+00:00\" from the time string:\n",
    "           trn_data['Time_UTC'] = trn_data['Time_UTC'].astype(str)\n",
    "           trn_data['Time_UTC'] = trn_data['Time_UTC'].str.split('+').str[0]\n",
    "\n",
    "           # Aggregate the output into a new dataframe:\n",
    "           if file == 0:\n",
    "              trn_output_df = trn_data\n",
    "           else:\n",
    "              trn_output_df = pd.concat([trn_output_df, trn_data])\n",
    "         \n",
    "           # Clean up and move to the next file:\n",
    "           del trn_data\n",
    "           \n",
    "       # Write out the dataframe to a .csv file:\n",
    "       trn_output_df.to_csv((os.path.join(data_output_dir, ('Transportation_Load_Time_Series_' + scenario + '_' + year + '.csv'))), sep=',', index=False)\n",
    "   \n",
    "    else:\n",
    "       # Read in the already processed output file:\n",
    "       trn_output_df = pd.read_csv((os.path.join(data_output_dir, ('Transportation_Load_Time_Series_' + scenario + '_' + year + '.csv'))))            \n",
    "                  \n",
    "    return trn_output_df\n"
   ]
  },
  {
   "cell_type": "code",
   "execution_count": null,
   "id": "79f92d48-d4f0-482a-a2cc-207592369c7b",
   "metadata": {},
   "outputs": [],
   "source": [
    "# Merge the transportation output files into a single dataframe:\n",
    "trn_df = merge_transportation_data(scenario = scenario_to_process, \n",
    "                                   year = year_to_process, \n",
    "                                   trans_data_input_dir = trans_data_input_dir, \n",
    "                                   data_output_dir = data_output_dir)\n",
    "\n",
    "# Preview the transportation dataframe:\n",
    "trn_df\n"
   ]
  },
  {
   "cell_type": "markdown",
   "id": "f0a6b815-fcbf-4d6f-b4f8-4f8b3881cfc1",
   "metadata": {},
   "source": [
    "## Read in the TELL Output File and Subset to Just the BAs in the WECC\n"
   ]
  },
  {
   "cell_type": "code",
   "execution_count": null,
   "id": "21c6000a-69e3-434b-b63f-dffeca8d75a9",
   "metadata": {},
   "outputs": [],
   "source": [
    "# Read in the BA-to-Interconnection mapping file:\n",
    "ba_mapping_df = pd.read_csv(data_output_dir + 'BA_to_Interconnection_Mapping.csv')\n"
   ]
  },
  {
   "cell_type": "code",
   "execution_count": null,
   "id": "a330d0c1-a657-4365-bf77-0bb8ea4c58c7",
   "metadata": {},
   "outputs": [],
   "source": [
    "# Read in the TELL BA output file for the year and scenario being processed:\n",
    "tell_df = pd.read_csv(tell_data_input_dir + scenario_to_process + '/' + year_to_process + '/TELL_Balancing_Authority_Hourly_Load_Data_' + year_to_process + '_Scaled_' + year_to_process + '.csv')\n",
    "\n",
    "# Rename a few variables for consistency:\n",
    "tell_df.rename(columns={'Scaled_TELL_BA_Load_MWh': 'Non-Transportation_Load_MWh'}, inplace=True)\n",
    "\n",
    "# Merge the ba_mapping_df and tell_df dataframes based on common \"BA_Code\":\n",
    "tell_df = tell_df.merge(ba_mapping_df, on=['BA_Code'])\n",
    "\n",
    "# Subset to just the WECC BAs:\n",
    "tell_df = tell_df[tell_df['Interconnection'] == 'WECC'].copy()\n",
    "\n",
    "# Make the time variable a string:\n",
    "tell_df['Time_UTC'] = tell_df['Time_UTC'].astype(str)\n",
    "\n",
    "# Only keep the columns that are needed:\n",
    "tell_df = tell_df[['BA_Code', 'Time_UTC', 'Non-Transportation_Load_MWh']].copy()\n",
    "\n",
    "# Preview the TELL dataframe:\n",
    "tell_df\n"
   ]
  },
  {
   "cell_type": "markdown",
   "id": "95d89c2d-a570-4a6e-a7f5-60bb4f50b839",
   "metadata": {},
   "source": [
    "## Merge the TELL and Transportation Dataframes Together\n"
   ]
  },
  {
   "cell_type": "code",
   "execution_count": null,
   "id": "9c92f7ac-8475-4290-a94d-0460f0cc128a",
   "metadata": {},
   "outputs": [],
   "source": [
    "# Merge the trn_df and tell_df dataframes based on common \"BA_Code\" and \"Time_UTC\":\n",
    "merged_df = tell_df.merge(trn_df, on=['BA_Code', 'Time_UTC'])\n",
    "\n",
    "# Compute the sum of the transportation and non-transportation loads:\n",
    "merged_df['Total_Load_MWh'] = merged_df['Non-Transportation_Load_MWh'] + merged_df['Transportation_Load_MWh']\n",
    "\n",
    "# Round off the values to make the output file more readable:\n",
    "merged_df['Non-Transportation_Load_MWh'] = merged_df['Non-Transportation_Load_MWh'].round(2)\n",
    "merged_df['Transportation_Load_MWh'] = merged_df['Transportation_Load_MWh'].round(2)\n",
    "merged_df['Total_Load_MWh'] = merged_df['Total_Load_MWh'].round(2)\n",
    "\n",
    "# Fill in missing values with -9999:\n",
    "merged_df['Non-Transportation_Load_MWh'] = merged_df['Non-Transportation_Load_MWh'].fillna(-9999)\n",
    "merged_df['Transportation_Load_MWh'] = merged_df['Transportation_Load_MWh'].fillna(-9999)\n",
    "merged_df['Total_Load_MWh'] = merged_df['Total_Load_MWh'].fillna(-9999)\n",
    "\n",
    "# Write out the dataframe to a .csv file:\n",
    "merged_df.to_csv((os.path.join(data_output_dir, ('Total_Load_Time_Series_' + scenario_to_process + '_' + year_to_process + '.csv'))), sep=',', index=False)\n",
    "\n",
    "# Preview the merged dataframe:\n",
    "merged_df\n"
   ]
  },
  {
   "cell_type": "code",
   "execution_count": null,
   "id": "40122256-fdd3-4627-88d3-720591f158c8",
   "metadata": {},
   "outputs": [],
   "source": []
  }
 ],
 "metadata": {
  "kernelspec": {
   "display_name": "py3.9.15_std",
   "language": "python",
   "name": "py3.9.15_std"
  },
  "language_info": {
   "codemirror_mode": {
    "name": "ipython",
    "version": 3
   },
   "file_extension": ".py",
   "mimetype": "text/x-python",
   "name": "python",
   "nbconvert_exporter": "python",
   "pygments_lexer": "ipython3",
   "version": "3.9.15"
  }
 },
 "nbformat": 4,
 "nbformat_minor": 5
}
