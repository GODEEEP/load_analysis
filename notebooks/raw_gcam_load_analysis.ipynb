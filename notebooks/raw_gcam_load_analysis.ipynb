{
 "cells": [
  {
   "cell_type": "markdown",
   "id": "dd40f4f4-5a80-40b7-94b3-aed136daa9d8",
   "metadata": {},
   "source": [
    "# Analysis of the Temporal Evolution of Loads from GCAM-USA\n",
    "\n",
    "This notebook analyzes the time series of annual total loads from GCAM-USA for the the eleven states in the WECC."
   ]
  },
  {
   "cell_type": "code",
   "execution_count": null,
   "id": "27e597e9-538f-41d4-afa9-a268b10ab1df",
   "metadata": {},
   "outputs": [],
   "source": [
    "# Start by importing the packages we need:\n",
    "import os\n",
    "import warnings\n",
    "\n",
    "import pandas as pd\n",
    "import numpy as np\n",
    "import matplotlib.pyplot as plt\n"
   ]
  },
  {
   "cell_type": "markdown",
   "id": "d37b4b69-63a7-4774-9827-f4a7005a6f55",
   "metadata": {},
   "source": [
    "## Suppress Future Warnings\n"
   ]
  },
  {
   "cell_type": "code",
   "execution_count": null,
   "id": "7358196f-31fb-429c-b34d-5076dc442c9d",
   "metadata": {
    "tags": []
   },
   "outputs": [],
   "source": [
    "warnings.simplefilter(action='ignore', category=FutureWarning)\n"
   ]
  },
  {
   "cell_type": "markdown",
   "id": "795f6fe5-0769-4298-887e-7c4cffc64a0d",
   "metadata": {},
   "source": [
    "## Set the Directory Structure"
   ]
  },
  {
   "cell_type": "code",
   "execution_count": null,
   "id": "bd887600-32da-46dc-b411-fa63c75f564f",
   "metadata": {
    "pycharm": {
     "name": "#%%\n"
    }
   },
   "outputs": [],
   "source": [
    "# Identify the top-level directory and the subdirectory where the data will be stored:\n",
    "gcam_data_input_dir =  '/Users/burl878/Documents/GODEEEP/Data/TELL_v3/Production_Runs/gcamusa_data/'\n",
    "data_output_dir =  '/Users/burl878/Documents/Code/code_repos/load_analysis/data/'\n",
    "image_output_dir =  '/Users/burl878/Documents/Code/code_repos/load_analysis/figures/'\n"
   ]
  },
  {
   "cell_type": "markdown",
   "id": "169dc070-0ab8-4833-b6a0-589869ebf64e",
   "metadata": {},
   "source": [
    "## Process the GridView-Ready Output Files"
   ]
  },
  {
   "cell_type": "code",
   "execution_count": null,
   "id": "ea6ccf33-f406-4fb7-9e16-32e32e2225dd",
   "metadata": {},
   "outputs": [],
   "source": [
    "# Check to see if the processed output file exist and if not then create it:\n",
    "if os.path.isfile((os.path.join(data_output_dir, 'GCAM_Rerun_WECC_States_Load_Time_Series.csv'))) == False:\n",
    "\n",
    "   # Set the scenarios to process:\n",
    "   scenarios = ['bau_rerun_mc_climate', 'bau_rerun_mc_ira_ccs_climate', 'nz_rerun_mc_ccs_climate', 'nz_rerun_mc_climate', 'nz_rerun_mc_ira_ccs_climate']\n",
    "    \n",
    "   #Initiate a counter and empty dataframe to store the results:\n",
    "   counter = 0\n",
    "   output_df = pd.DataFrame()\n",
    "\n",
    "   # Loop over the scenarios and process each time series:\n",
    "   for s in range(len(scenarios)):\n",
    "       # Read in the TELL BA output file for that year and scenario:\n",
    "       gcam_df = pd.read_csv(gcam_data_input_dir + 'GODEEEP_GCAM_USA_electricity_load_' + scenarios[s] + '.csv')\n",
    "   \n",
    "       # Rename a few variables for simplicity:\n",
    "       gcam_df.rename(columns={'region': 'State', 'x': 'Year', 'value': 'NonTran_Load_EJ', 'transportation_value': 'Tran_Load_EJ'}, inplace=True)\n",
    "    \n",
    "       # Only keep the columns that are needed:\n",
    "       gcam_df = gcam_df[['State', 'Year', 'NonTran_Load_EJ', 'Tran_Load_EJ']].copy()\n",
    "           \n",
    "       # Compute the total load by summing the transportation and non-transportation components:\n",
    "       gcam_df['Load_EJ'] = gcam_df['NonTran_Load_EJ'] + gcam_df['Tran_Load_EJ']\n",
    "    \n",
    "       # Set the years to process:\n",
    "       years_to_process = [1975, 1990, 2005, 2010, 2015, 2020, 2025, 2030, 2035, 2040, 2045, 2050]\n",
    "              \n",
    "       ## Loop over the years from the start_year to the end_year:\n",
    "       for year in years_to_process:\n",
    "           \n",
    "           # Subset to just the data for the year being processed:\n",
    "           gcam_subset_df = gcam_df[gcam_df['Year'] == year].copy() \n",
    "        \n",
    "           # Subset the data to just states in the WECC:\n",
    "           wecc_df = gcam_subset_df[gcam_subset_df['State'].isin(['WA', 'OR', 'CA', 'ID', 'UT', 'NV', 'AZ', 'NM', 'MT', 'WY', 'CO'])]\n",
    "    \n",
    "           # Iterate the counter by one:\n",
    "           counter = counter + 1\n",
    "            \n",
    "           # Put the output in a new dataframe:\n",
    "           output_df.loc[counter, 'Scenario'] = scenarios[s]\n",
    "           output_df.loc[counter, 'Year'] = year\n",
    "           output_df.loc[counter, 'Total_Load_TWh'] = ((wecc_df['Load_EJ'].sum().round(6)) * 277.7777778).round(3)\n",
    "           output_df.loc[counter, 'NonTran_Load_TWh'] = ((wecc_df['NonTran_Load_EJ'].sum().round(6)) * 277.7777778).round(3)\n",
    "           output_df.loc[counter, 'Tran_Load_TWh'] = ((wecc_df['Tran_Load_EJ'].sum().round(6)) * 277.7777778).round(3)\n",
    "            \n",
    "           # Clean up\n",
    "           del gcam_subset_df, wecc_df\n",
    "         \n",
    "   # Write out the dataframe to a .csv file:\n",
    "   output_df.to_csv((os.path.join(data_output_dir, 'GCAM_Rerun_WECC_States_Load_Time_Series.csv')), sep=',', index=False)\n",
    "\n",
    "else:\n",
    "   # Read in the already processed output file:\n",
    "   output_df = pd.read_csv((os.path.join(data_output_dir, 'GCAM_Rerun_WECC_States_Load_Time_Series.csv')))            \n",
    "                  \n",
    "# Preview the future dataframe:\n",
    "output_df\n"
   ]
  },
  {
   "cell_type": "code",
   "execution_count": null,
   "id": "56abe13f-ec5f-4ee2-919c-e53a3037239a",
   "metadata": {},
   "outputs": [],
   "source": [
    "# Define a function to plot the time series of annual demand for the WECC:\n",
    "def plot_wecc_load_time_series(data_input_dir: str, image_output_dir: str, image_resolution: int, save_images=False):\n",
    "    \n",
    "    # Read in the output file:\n",
    "    output_df = pd.read_csv((os.path.join(data_output_dir, 'GCAM_Rerun_WECC_States_Load_Time_Series.csv')))\n",
    "    \n",
    "    # Subset to the time series for each interconnection and scenario:\n",
    "    wecc_historic = output_df[output_df['Scenario'].isin(['bau_rerun_mc_climate'])].loc[(output_df['Year'] <= 2015)]\n",
    "    wecc_bau_climate = output_df[output_df['Scenario'].isin(['bau_rerun_mc_climate'])].loc[(output_df['Year'] > 2015)]\n",
    "    wecc_bau_ira_ccs_climate = output_df[output_df['Scenario'].isin(['bau_rerun_mc_ira_ccs_climate'])].loc[(output_df['Year'] > 2015)]\n",
    "    wecc_nz_ccs_climate = output_df[output_df['Scenario'].isin(['nz_rerun_mc_ccs_climate'])].loc[(output_df['Year'] > 2015)]\n",
    "    wecc_nz_climate = output_df[output_df['Scenario'].isin(['nz_rerun_mc_climate'])].loc[(output_df['Year'] > 2015)]\n",
    "    wecc_nz_ira_ccs_climate = output_df[output_df['Scenario'].isin(['nz_rerun_mc_ira_ccs_climate'])].loc[(output_df['Year'] > 2015)]\n",
    "    \n",
    "    # Make the raw load plots:\n",
    "    plt.figure(figsize=(24, 20))\n",
    "    plt.rcParams['font.size'] = 18\n",
    "    \n",
    "    plt.subplot(211)\n",
    "    #plt.plot(wecc_historic['Year'], wecc_historic['Total_Load_TWh'], color='k', linestyle='-', label='historic', linewidth=3)\n",
    "    #plt.scatter(wecc_historic['Year'], wecc_historic['Total_Load_TWh'], s=50, c='k', label='')\n",
    "    plt.plot(wecc_bau_climate['Year'], wecc_bau_climate['Total_Load_TWh'], color='blue', linestyle='-', label='bau_rerun_mc_climate', linewidth=3)\n",
    "    plt.scatter(wecc_bau_climate['Year'], wecc_bau_climate['Total_Load_TWh'], s=50, c='blue', label='')\n",
    "    plt.plot(wecc_bau_ira_ccs_climate['Year'], wecc_bau_ira_ccs_climate['Total_Load_TWh'], color='orange', linestyle='-', label='bau_rerun_mc_ira_ccs_climate', linewidth=3)\n",
    "    plt.scatter(wecc_bau_ira_ccs_climate['Year'], wecc_bau_ira_ccs_climate['Total_Load_TWh'], s=50, c='orange', label='')\n",
    "    plt.plot(wecc_nz_ccs_climate['Year'], wecc_nz_ccs_climate['Total_Load_TWh'], color='green', linestyle='-', label='nz_rerun_mc_ccs_climate', linewidth=3)\n",
    "    plt.scatter(wecc_nz_ccs_climate['Year'], wecc_nz_ccs_climate['Total_Load_TWh'], s=50, c='green', label='')\n",
    "    plt.plot(wecc_nz_climate['Year'], wecc_nz_climate['Total_Load_TWh'], color='red', linestyle='-', label='nz_rerun_mc_climate', linewidth=3)\n",
    "    plt.scatter(wecc_nz_climate['Year'], wecc_nz_climate['Total_Load_TWh'], s=50, c='red', label='')\n",
    "    plt.plot(wecc_nz_ira_ccs_climate['Year'], wecc_nz_ira_ccs_climate['Total_Load_TWh'], color='purple', linestyle='-', label='nz_rerun_mc_ira_ccs_climate', linewidth=3)\n",
    "    plt.scatter(wecc_nz_ira_ccs_climate['Year'], wecc_nz_ira_ccs_climate['Total_Load_TWh'], s=50, c='purple', label='')\n",
    "    plt.xticks([2005, 2010, 2015, 2020, 2025, 2030, 2035, 2040, 2045, 2050],['2005', '2010', '2015', '2020', '2025','2030','2035','2040','2045','2050'])\n",
    "    plt.xlim([2019, 2051]); \n",
    "    plt.ylabel('Annual Total Load [TWh]')\n",
    "    plt.grid(True)\n",
    "    plt.legend(loc='upper left', prop={'size': 18})\n",
    "    plt.title('Western States Annual Total Load Projections')\n",
    "    plt.title('a)', loc='left', fontsize=15)\n",
    "    \n",
    "    plt.subplot(212)\n",
    "    #plt.plot(wecc_historic['Year'], wecc_historic['Tran_Load_TWh'], color='k', linestyle='-', label='historic', linewidth=3)\n",
    "    #plt.scatter(wecc_historic['Year'], wecc_historic['Tran_Load_TWh'], s=50, c='k', label='')\n",
    "    plt.plot(wecc_bau_climate['Year'], wecc_bau_climate['Tran_Load_TWh'], color='blue', linestyle='-', label='bau_rerun_mc_climate', linewidth=3)\n",
    "    plt.scatter(wecc_bau_climate['Year'], wecc_bau_climate['Tran_Load_TWh'], s=50, c='blue', label='')\n",
    "    plt.plot(wecc_bau_ira_ccs_climate['Year'], wecc_bau_ira_ccs_climate['Tran_Load_TWh'], color='orange', linestyle='-', label='bau_rerun_mc_ira_ccs_climate', linewidth=3)\n",
    "    plt.scatter(wecc_bau_ira_ccs_climate['Year'], wecc_bau_ira_ccs_climate['Tran_Load_TWh'], s=50, c='orange', label='')\n",
    "    plt.plot(wecc_nz_ccs_climate['Year'], wecc_nz_ccs_climate['Tran_Load_TWh'], color='green', linestyle='-', label='nz_rerun_mc_ccs_climate', linewidth=3)\n",
    "    plt.scatter(wecc_nz_ccs_climate['Year'], wecc_nz_ccs_climate['Tran_Load_TWh'], s=50, c='green', label='')\n",
    "    plt.plot(wecc_nz_climate['Year'], wecc_nz_climate['Tran_Load_TWh'], color='red', linestyle='-', label='nz_rerun_mc_climate', linewidth=3)\n",
    "    plt.scatter(wecc_nz_climate['Year'], wecc_nz_climate['Tran_Load_TWh'], s=50, c='red', label='')\n",
    "    plt.plot(wecc_nz_ira_ccs_climate['Year'], wecc_nz_ira_ccs_climate['Tran_Load_TWh'], color='purple', linestyle='-', label='nz_rerun_mc_ira_ccs_climate', linewidth=3)\n",
    "    plt.scatter(wecc_nz_ira_ccs_climate['Year'], wecc_nz_ira_ccs_climate['Tran_Load_TWh'], s=50, c='purple', label='')\n",
    "    plt.xticks([2005, 2010, 2015, 2020, 2025, 2030, 2035, 2040, 2045, 2050],['2005', '2010', '2015', '2020', '2025','2030','2035','2040','2045','2050'])\n",
    "    plt.xlim([2019, 2051]); \n",
    "    plt.ylabel('Annual Transportation Load [TWh]')\n",
    "    plt.grid(True)\n",
    "    plt.legend(loc='upper left', prop={'size': 18})\n",
    "    plt.title('Western States Annual Transportation Load Projections')\n",
    "    plt.title('b)', loc='left', fontsize=15)\n",
    "    \n",
    "    # If the \"save_images\" flag is set to true then save the plot to a .png file:\n",
    "    if save_images == True:\n",
    "       filename = ('WECC_GCAM_Rerun_Load_Projections.png')\n",
    "       plt.savefig(os.path.join(image_output_dir, filename), dpi=image_resolution, bbox_inches='tight', facecolor='white')\n",
    "       plt.close()\n",
    "    "
   ]
  },
  {
   "cell_type": "code",
   "execution_count": null,
   "id": "a330d0c1-a657-4365-bf77-0bb8ea4c58c7",
   "metadata": {},
   "outputs": [],
   "source": [
    "plot_wecc_load_time_series(data_input_dir = data_output_dir, \n",
    "                           image_output_dir = image_output_dir, \n",
    "                           image_resolution = 300, \n",
    "                           save_images = True)\n"
   ]
  },
  {
   "cell_type": "code",
   "execution_count": null,
   "id": "5c7af3e4-da3f-4a67-a2a9-8a9a99ae419e",
   "metadata": {},
   "outputs": [],
   "source": []
  }
 ],
 "metadata": {
  "kernelspec": {
   "display_name": "py3.9.15_std",
   "language": "python",
   "name": "py3.9.15_std"
  },
  "language_info": {
   "codemirror_mode": {
    "name": "ipython",
    "version": 3
   },
   "file_extension": ".py",
   "mimetype": "text/x-python",
   "name": "python",
   "nbconvert_exporter": "python",
   "pygments_lexer": "ipython3",
   "version": "3.9.15"
  }
 },
 "nbformat": 4,
 "nbformat_minor": 5
}
